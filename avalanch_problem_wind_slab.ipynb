{
  "nbformat": 4,
  "nbformat_minor": 0,
  "metadata": {
    "colab": {
      "name": "Уровень проблемы wind slab.ipynb",
      "provenance": [],
      "toc_visible": true,
      "authorship_tag": "ABX9TyNvLGKR/VcKQ4y41wIIIXFF",
      "include_colab_link": true
    },
    "kernelspec": {
      "name": "python3",
      "display_name": "Python 3"
    },
    "language_info": {
      "name": "python"
    }
  },
  "cells": [
    {
      "cell_type": "markdown",
      "metadata": {
        "id": "view-in-github",
        "colab_type": "text"
      },
      "source": [
        "<a href=\"https://colab.research.google.com/github/Rinat29/avalanche_nodejs_t/blob/master/avalanch_problem_wind_slab.ipynb\" target=\"_parent\"><img src=\"https://colab.research.google.com/assets/colab-badge.svg\" alt=\"Open In Colab\"/></a>"
      ]
    },
    {
      "cell_type": "markdown",
      "source": [
        "# Метелевой перенос"
      ],
      "metadata": {
        "id": "GPT5TfakxEVh"
      }
    },
    {
      "cell_type": "code",
      "source": [
        "import numpy\n",
        "\n",
        "w1 = float(8) # скорость ветра\n",
        "w2 = numpy.array([8,8,8,8,8,8]) # суммарный перенос за 6 отрезков\n",
        "format_snow = int(5) # доступный для переноса снег от 0 до 5\n",
        "k_st = float(0.00031) # коэфициент пропорциональности\n",
        "\n",
        "st = (k_st*w1**3) # количество перенесенного снега\n",
        "\n",
        "sum_st6 = sum(w2 ** 3 * k_st)\n",
        "\n",
        "sum_st6_test = w1 ** 3 * k_st * 6 \n",
        "\n",
        "# вывод результатов ниже\n",
        "if st >= float(0.5):\n",
        "  print ('опасность = 3')\n",
        "elif st >= float(0.35):\n",
        "  print ('опасность = 2')\n",
        "elif st >= float(0.15):\n",
        "  print ('опасность = 1')\n",
        "else: print ('опасность = 0')\n",
        "print ('метелевой перенос =', st)\n",
        "if sum_st6 >= float(3):\n",
        "  print ('опасность за 6 часов = 3')\n",
        "elif sum_st6 >= float(2):\n",
        "  print ('опасность за 6 часов = 2')\n",
        "elif sum_st6 >= float(0.9):\n",
        "  print ('опасность за 6 часов = 1')\n",
        "else: print ('опасность за 6 часов = 0')\n",
        "print ('sum_st6 =', sum_st6, 'sum_st6_test =', sum_st6_test)"
      ],
      "metadata": {
        "colab": {
          "base_uri": "https://localhost:8080/"
        },
        "id": "BnBhO8adxHOj",
        "outputId": "7dd1e899-d545-419d-d93c-ac17f04b2c6b"
      },
      "execution_count": null,
      "outputs": [
        {
          "output_type": "stream",
          "name": "stdout",
          "text": [
            "опасность = 1\n",
            "метелевой перенос = 0.15872\n",
            "опасность за 6 часов = 1\n",
            "sum_st6 = 0.9523199999999999 sum_st6_test = 0.95232\n"
          ]
        }
      ]
    },
    {
      "cell_type": "markdown",
      "source": [
        "# Обработка параметров"
      ],
      "metadata": {
        "id": "dKnZwO7hxJKh"
      }
    },
    {
      "cell_type": "markdown",
      "source": [
        "# Вывод параметров"
      ],
      "metadata": {
        "id": "j7_VY1qux_c6"
      }
    }
  ]
}